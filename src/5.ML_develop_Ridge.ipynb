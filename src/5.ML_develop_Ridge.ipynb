{
 "cells": [
  {
   "cell_type": "code",
   "execution_count": 67,
   "metadata": {},
   "outputs": [],
   "source": [
    "import pandas as pd\n",
    "from sklearn.linear_model import Ridge\n",
    "from sklearn.metrics import mean_squared_error, r2_score\n",
    "import math\n",
    "import pickle\n",
    "from pickle import dump"
   ]
  },
  {
   "cell_type": "code",
   "execution_count": 68,
   "metadata": {},
   "outputs": [],
   "source": [
    "y_train = pd.read_csv('/workspaces/EDA_4/data/processed/heart_prevalence_y_train.csv')\n",
    "y_test = pd.read_csv('/workspaces/EDA_4/data/processed/heart_prevalence_y_test.csv')\n",
    "X_train_norm = pd.read_csv('/workspaces/EDA_4/data/interim/heart_prevalence_X_train_std.csv')\n",
    "X_test_norm = pd.read_csv('/workspaces/EDA_4/data/interim/heart_prevalence_X_test_std.csv')\n",
    "X_train_not_norm = pd.read_csv('/workspaces/EDA_4/data/processed/heart_prevalence_X_train.csv')\n",
    "X_test_not_norm = pd.read_csv('/workspaces/EDA_4/data/processed/heart_prevalence_X_test.csv')\n"
   ]
  },
  {
   "cell_type": "code",
   "execution_count": 69,
   "metadata": {},
   "outputs": [],
   "source": [
    "from sklearn.feature_selection import f_regression, SelectKBest"
   ]
  },
  {
   "cell_type": "code",
   "execution_count": 70,
   "metadata": {},
   "outputs": [
    {
     "name": "stdout",
     "output_type": "stream",
     "text": [
      "Error cuadrático medio: 0.27978595682405133\n",
      "Coeficiente de determinación: 0.9574473435853107\n",
      "Best model is 0.5\n",
      "-----------------------------------\n",
      "Intercept (a): [8.37149865]\n",
      "Coefficients (b): [[-0.16040501  0.68951099 -0.24149325  0.54356876 -0.57176282  0.54451463]]\n",
      "-----------------------------------\n",
      "Error cuadrático medio de Train es: 0.27978595682405133\n",
      "Coeficiente de determinación de Train es: 0.9338943689562693\n",
      "-----------------------------------\n",
      "Error cuadrático medio de Test es: 0.5216644287205902\n",
      "Coeficiente de determinación de Test es: 0.8706226686953741\n"
     ]
    },
    {
     "name": "stderr",
     "output_type": "stream",
     "text": [
      "/home/vscode/.local/lib/python3.11/site-packages/sklearn/utils/validation.py:1183: DataConversionWarning: A column-vector y was passed when a 1d array was expected. Please change the shape of y to (n_samples, ), for example using ravel().\n",
      "  y = column_or_1d(y, warn=True)\n",
      "/home/vscode/.local/lib/python3.11/site-packages/sklearn/utils/validation.py:1183: DataConversionWarning: A column-vector y was passed when a 1d array was expected. Please change the shape of y to (n_samples, ), for example using ravel().\n",
      "  y = column_or_1d(y, warn=True)\n",
      "/home/vscode/.local/lib/python3.11/site-packages/sklearn/utils/validation.py:1183: DataConversionWarning: A column-vector y was passed when a 1d array was expected. Please change the shape of y to (n_samples, ), for example using ravel().\n",
      "  y = column_or_1d(y, warn=True)\n",
      "/home/vscode/.local/lib/python3.11/site-packages/sklearn/utils/validation.py:1183: DataConversionWarning: A column-vector y was passed when a 1d array was expected. Please change the shape of y to (n_samples, ), for example using ravel().\n",
      "  y = column_or_1d(y, warn=True)\n",
      "/home/vscode/.local/lib/python3.11/site-packages/sklearn/utils/validation.py:1183: DataConversionWarning: A column-vector y was passed when a 1d array was expected. Please change the shape of y to (n_samples, ), for example using ravel().\n",
      "  y = column_or_1d(y, warn=True)\n"
     ]
    }
   ],
   "source": [
    "rmss = []\n",
    "r2s = []\n",
    "percents = [1, 0.8, 0.7, 0.6, 0.5]\n",
    "for p in percents:\n",
    "\n",
    "    selection_model = SelectKBest(f_regression, k = int(len(X_train_norm.columns) * p))\n",
    "    selection_model.fit(X_train_norm, y_train)\n",
    "    ix = selection_model.get_support()\n",
    "\n",
    "    X_train_sel = pd.DataFrame(selection_model.transform(X_train_norm), columns = X_train_norm.columns.values[ix])\n",
    "    X_test_sel = pd.DataFrame(selection_model.transform(X_test_norm), columns = X_test_norm.columns.values[ix])\n",
    "\n",
    "    dump(selection_model, open(f\"/workspaces/EDA_4/models/selection_model_ridge{p}.pk\", \"wb\"))\n",
    "\n",
    "    ridge_model = Ridge(alpha = 0.1, max_iter = 300)\n",
    "    ridge_model.fit(X_train_sel, y_train)\n",
    "    y_pred = ridge_model.predict(X_train_sel)\n",
    "    rmss.append(math.sqrt(mean_squared_error(y_train, y_pred)))\n",
    "    r2s.append(r2_score(y_train, y_pred))\n",
    "\n",
    "best_rmss = rmss.index(max(rmss)) \n",
    "best_r2s = r2s.index(max(r2s)) \n",
    "\n",
    "print(f\"Error cuadrático medio: {rmss[best_rmss]}\")\n",
    "print(f\"Coeficiente de determinación: {r2s[best_r2s]}\")\n",
    "print(f\"Best model is {percents[best_rmss]}\")\n",
    "\n",
    "selection_model = pickle.load(open(\"/workspaces/EDA_4/models/selection_model_ridge0.5.pk\", \"rb\"))\n",
    "ix = selection_model.get_support()\n",
    "\n",
    "X_train_sel = pd.DataFrame(selection_model.transform(X_train_norm), columns = X_train_norm.columns.values[ix])\n",
    "X_test_sel = pd.DataFrame(selection_model.transform(X_test_norm), columns = X_test_norm.columns.values[ix])\n",
    "\n",
    "model = Ridge(alpha = 0.1, max_iter = 300)\n",
    "model.fit(X_train_sel, y_train)\n",
    "\n",
    "print('-' * 35)\n",
    "\n",
    "print(f\"Intercept (a): {model.intercept_}\")\n",
    "print(f\"Coefficients (b): {model.coef_}\")\n",
    "\n",
    "print('-' * 35)\n",
    "\n",
    "y_pred = model.predict(X_train_sel)\n",
    "print(f\"Error cuadrático medio de Train es: {math.sqrt(mean_squared_error(y_train, y_pred))}\")\n",
    "print(f\"Coeficiente de determinación de Train es: {r2_score(y_train, y_pred)}\")\n",
    "\n",
    "print('-' * 35)\n",
    "\n",
    "y_pred = model.predict(X_test_sel)\n",
    "print(f\"Error cuadrático medio de Test es: {math.sqrt(mean_squared_error(y_test, y_pred))}\")\n",
    "print(f\"Coeficiente de determinación de Test es: {r2_score(y_test, y_pred)}\")\n",
    "\n"
   ]
  },
  {
   "cell_type": "code",
   "execution_count": 71,
   "metadata": {},
   "outputs": [
    {
     "name": "stdout",
     "output_type": "stream",
     "text": [
      "Error cuadrático medio: 0.2825484423493222\n",
      "Coeficiente de determinación: 0.9574454972798395\n",
      "Best model is 0.5\n",
      "-----------------------------------\n",
      "Intercept (a): [2.63161161]\n",
      "Coefficients (b): [[-2.84166300e-05  1.63809491e-01 -9.72199961e-02  2.61134043e-01\n",
      "  -2.67989164e-01  1.25618512e+00]]\n",
      "-----------------------------------\n",
      "Error cuadrático medio de Train es: 0.2825484423493222\n",
      "Coeficiente de determinación de Train es: 0.9325825276763562\n",
      "-----------------------------------\n",
      "Error cuadrático medio de Test es: 0.5105536241453681\n",
      "Coeficiente de determinación de Test es: 0.876075131352427\n"
     ]
    },
    {
     "name": "stderr",
     "output_type": "stream",
     "text": [
      "/home/vscode/.local/lib/python3.11/site-packages/sklearn/utils/validation.py:1183: DataConversionWarning: A column-vector y was passed when a 1d array was expected. Please change the shape of y to (n_samples, ), for example using ravel().\n",
      "  y = column_or_1d(y, warn=True)\n",
      "/home/vscode/.local/lib/python3.11/site-packages/sklearn/utils/validation.py:1183: DataConversionWarning: A column-vector y was passed when a 1d array was expected. Please change the shape of y to (n_samples, ), for example using ravel().\n",
      "  y = column_or_1d(y, warn=True)\n",
      "/home/vscode/.local/lib/python3.11/site-packages/sklearn/utils/validation.py:1183: DataConversionWarning: A column-vector y was passed when a 1d array was expected. Please change the shape of y to (n_samples, ), for example using ravel().\n",
      "  y = column_or_1d(y, warn=True)\n",
      "/home/vscode/.local/lib/python3.11/site-packages/sklearn/utils/validation.py:1183: DataConversionWarning: A column-vector y was passed when a 1d array was expected. Please change the shape of y to (n_samples, ), for example using ravel().\n",
      "  y = column_or_1d(y, warn=True)\n",
      "/home/vscode/.local/lib/python3.11/site-packages/sklearn/utils/validation.py:1183: DataConversionWarning: A column-vector y was passed when a 1d array was expected. Please change the shape of y to (n_samples, ), for example using ravel().\n",
      "  y = column_or_1d(y, warn=True)\n"
     ]
    }
   ],
   "source": [
    "rmss = []\n",
    "r2s = []\n",
    "percents = [1, 0.8, 0.7, 0.6, 0.5]\n",
    "for p in percents:\n",
    "\n",
    "    selection_model = SelectKBest(f_regression, k = int(len(X_train_not_norm.columns) * p))\n",
    "    selection_model.fit(X_train_not_norm, y_train)\n",
    "    ix = selection_model.get_support()\n",
    "\n",
    "    X_train_sel = pd.DataFrame(selection_model.transform(X_train_not_norm), columns = X_train_not_norm.columns.values[ix])\n",
    "    X_test_sel = pd.DataFrame(selection_model.transform(X_test_not_norm), columns = X_test_not_norm.columns.values[ix])\n",
    "\n",
    "    dump(selection_model, open(f\"/workspaces/EDA_4/models/selection_model_ridge_not_norm{p}.pk\", \"wb\"))\n",
    "\n",
    "    ridge_model = Ridge(alpha = 0.1, max_iter = 300)\n",
    "    ridge_model.fit(X_train_sel, y_train)\n",
    "    y_pred = ridge_model.predict(X_train_sel)\n",
    "    rmss.append(math.sqrt(mean_squared_error(y_train, y_pred)))\n",
    "    r2s.append(r2_score(y_train, y_pred))\n",
    "\n",
    "best_rmss = rmss.index(max(rmss)) \n",
    "best_r2s = r2s.index(max(r2s)) \n",
    "\n",
    "print(f\"Error cuadrático medio: {rmss[best_rmss]}\")\n",
    "print(f\"Coeficiente de determinación: {r2s[best_r2s]}\")\n",
    "print(f\"Best model is {percents[best_rmss]}\")\n",
    "\n",
    "selection_model = pickle.load(open(\"/workspaces/EDA_4/models/selection_model_ridge_not_norm0.5.pk\", \"rb\"))\n",
    "ix = selection_model.get_support()\n",
    "\n",
    "X_train_sel = pd.DataFrame(selection_model.transform(X_train_not_norm), columns = X_train_not_norm.columns.values[ix])\n",
    "X_test_sel = pd.DataFrame(selection_model.transform(X_test_not_norm), columns = X_test_not_norm.columns.values[ix])\n",
    "\n",
    "model = Ridge(alpha = 0.1, max_iter = 300)\n",
    "model.fit(X_train_sel, y_train)\n",
    "\n",
    "print('-' * 35)\n",
    "\n",
    "print(f\"Intercept (a): {model.intercept_}\")\n",
    "print(f\"Coefficients (b): {model.coef_}\")\n",
    "\n",
    "print('-' * 35)\n",
    "\n",
    "y_pred = model.predict(X_train_sel)\n",
    "print(f\"Error cuadrático medio de Train es: {math.sqrt(mean_squared_error(y_train, y_pred))}\")\n",
    "print(f\"Coeficiente de determinación de Train es: {r2_score(y_train, y_pred)}\")\n",
    "\n",
    "print('-' * 35)\n",
    "\n",
    "y_pred = model.predict(X_test_sel)\n",
    "print(f\"Error cuadrático medio de Test es: {math.sqrt(mean_squared_error(y_test, y_pred))}\")\n",
    "print(f\"Coeficiente de determinación de Test es: {r2_score(y_test, y_pred)}\")"
   ]
  }
 ],
 "metadata": {
  "kernelspec": {
   "display_name": "Python 3",
   "language": "python",
   "name": "python3"
  },
  "language_info": {
   "codemirror_mode": {
    "name": "ipython",
    "version": 3
   },
   "file_extension": ".py",
   "mimetype": "text/x-python",
   "name": "python",
   "nbconvert_exporter": "python",
   "pygments_lexer": "ipython3",
   "version": "3.11.4"
  }
 },
 "nbformat": 4,
 "nbformat_minor": 2
}
