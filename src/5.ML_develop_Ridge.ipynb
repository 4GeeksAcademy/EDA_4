{
 "cells": [
  {
   "cell_type": "code",
   "execution_count": 37,
   "metadata": {},
   "outputs": [],
   "source": [
    "import pandas as pd\n",
    "from sklearn.linear_model import Ridge\n",
    "from sklearn.metrics import mean_squared_error, r2_score\n",
    "import math\n",
    "from pickle import dump"
   ]
  },
  {
   "cell_type": "code",
   "execution_count": 38,
   "metadata": {},
   "outputs": [],
   "source": [
    "y_train = pd.read_csv('/workspaces/EDA_4/data/processed/heart_prevalence_y_train.csv')\n",
    "y_test = pd.read_csv('/workspaces/EDA_4/data/processed/heart_prevalence_y_test.csv')\n",
    "X_train_norm = pd.read_csv('/workspaces/EDA_4/data/interim/heart_prevalence_X_train_std.csv')\n",
    "X_test_norm = pd.read_csv('/workspaces/EDA_4/data/interim/heart_prevalence_X_test_std.csv')\n",
    "X_train_not_norm = pd.read_csv('/workspaces/EDA_4/data/processed/heart_prevalence_X_train.csv')\n",
    "X_test_not_norm = pd.read_csv('/workspaces/EDA_4/data/processed/heart_prevalence_X_test.csv')\n"
   ]
  },
  {
   "cell_type": "code",
   "execution_count": 39,
   "metadata": {},
   "outputs": [],
   "source": [
    "from sklearn.feature_selection import f_regression, SelectKBest"
   ]
  },
  {
   "cell_type": "code",
   "execution_count": 40,
   "metadata": {},
   "outputs": [
    {
     "name": "stdout",
     "output_type": "stream",
     "text": [
      "Error cuadrático medio: 0.5216644287205902\n",
      "Coeficiente de determinación: 0.9659903103124621\n"
     ]
    },
    {
     "name": "stderr",
     "output_type": "stream",
     "text": [
      "/home/vscode/.local/lib/python3.11/site-packages/sklearn/utils/validation.py:1183: DataConversionWarning: A column-vector y was passed when a 1d array was expected. Please change the shape of y to (n_samples, ), for example using ravel().\n",
      "  y = column_or_1d(y, warn=True)\n"
     ]
    }
   ],
   "source": [
    "rmss = []\n",
    "r2s = []\n",
    "for p in [1, 0.8, 0.7, 0.6, 0.5]:\n",
    "\n",
    "    selection_model = SelectKBest(f_regression, k = int(len(X_train_norm.columns) * p))\n",
    "    selection_model.fit(X_train_norm, y_train)\n",
    "    ix = selection_model.get_support()\n",
    "\n",
    "    X_train_sel = pd.DataFrame(selection_model.transform(X_train_norm), columns = X_train_norm.columns.values[ix])\n",
    "    X_test_sel = pd.DataFrame(selection_model.transform(X_test_norm), columns = X_test_norm.columns.values[ix])\n",
    "\n",
    "    dump(selection_model, open(f\"/workspaces/EDA_4/models/selection_model{p}.pk\", \"wb\"))\n",
    "\n",
    "    X_train_sel[\"Heart disease_prevalence\"] = y_train\n",
    "    X_test_sel[\"Heart disease_prevalence\"] = y_test \n",
    "    train_data = X_train_sel\n",
    "    test_data = X_test_sel\n",
    "\n",
    "    X_train = train_data.drop([\"Heart disease_prevalence\"], axis = 1)\n",
    "    y_train = train_data[\"Heart disease_prevalence\"]\n",
    "    X_test = test_data.drop([\"Heart disease_prevalence\"], axis = 1)\n",
    "    y_test = test_data[\"Heart disease_prevalence\"]  \n",
    "\n",
    "    ridge_model = Ridge(alpha = 0.1, max_iter = 300)\n",
    "    ridge_model.fit(X_train, y_train)\n",
    "    y_pred = ridge_model.predict(X_test)\n",
    "    rmss.append(math.sqrt(mean_squared_error(y_test, y_pred)))\n",
    "    r2s.append(r2_score(y_test, y_pred))\n",
    "\n",
    "best_rmss = rmss.index(max(rmss)) \n",
    "best_r2s = r2s.index(max(r2s)) \n",
    "\n",
    "print(f\"Error cuadrático medio: {rmss[best_rmss]}\")\n",
    "print(f\"Coeficiente de determinación: {r2s[best_r2s]}\")\n",
    "\n",
    "    "
   ]
  },
  {
   "cell_type": "code",
   "execution_count": 41,
   "metadata": {},
   "outputs": [
    {
     "name": "stdout",
     "output_type": "stream",
     "text": [
      "Error cuadrático medio: 0.5216644287205902\n",
      "Coeficiente de determinación: 0.9659903103124621\n"
     ]
    }
   ],
   "source": [
    "rmss_n = []\n",
    "r2s_n = []\n",
    "for p in [1, 0.8, 0.7, 0.6, 0.5]:\n",
    "\n",
    "    selection_model = SelectKBest(f_regression, k = int(len(X_train_not_norm.columns) * p))\n",
    "    selection_model.fit(X_train_not_norm, y_train)\n",
    "    ix = selection_model.get_support()\n",
    "\n",
    "    X_train_sel = pd.DataFrame(selection_model.transform(X_train_not_norm), columns = X_train_not_norm.columns.values[ix])\n",
    "    X_test_sel = pd.DataFrame(selection_model.transform(X_test_not_norm), columns = X_test_not_norm.columns.values[ix])\n",
    "\n",
    "    dump(selection_model, open(f\"/workspaces/EDA_4/models/selection_model_not_norm{p}.pk\", \"wb\"))\n",
    "\n",
    "    X_train_sel[\"Heart disease_prevalence\"] = y_train\n",
    "    X_test_sel[\"Heart disease_prevalence\"] = y_test \n",
    "    train_data = X_train_sel\n",
    "    test_data = X_test_sel\n",
    "\n",
    "    X_train = train_data.drop([\"Heart disease_prevalence\"], axis = 1)\n",
    "    y_train = train_data[\"Heart disease_prevalence\"]\n",
    "    X_test = test_data.drop([\"Heart disease_prevalence\"], axis = 1)\n",
    "    y_test = test_data[\"Heart disease_prevalence\"]  \n",
    "\n",
    "    ridge_model = Ridge(alpha = 0.1, max_iter = 300)\n",
    "    ridge_model.fit(X_train, y_train)\n",
    "    y_pred = ridge_model.predict(X_test)\n",
    "    rmss_n.append(math.sqrt(mean_squared_error(y_test, y_pred)))\n",
    "    r2s_n.append(r2_score(y_test, y_pred))\n",
    "\n",
    "best_rmss_n = rmss_n.index(max(rmss_n)) \n",
    "best_r2s_n = r2s_n.index(max(r2s_n)) \n",
    "\n",
    "print(f\"Error cuadrático medio: {rmss[best_rmss_n]}\")\n",
    "print(f\"Coeficiente de determinación: {r2s[best_r2s_n]}\")"
   ]
  }
 ],
 "metadata": {
  "kernelspec": {
   "display_name": "Python 3",
   "language": "python",
   "name": "python3"
  },
  "language_info": {
   "codemirror_mode": {
    "name": "ipython",
    "version": 3
   },
   "file_extension": ".py",
   "mimetype": "text/x-python",
   "name": "python",
   "nbconvert_exporter": "python",
   "pygments_lexer": "ipython3",
   "version": "3.11.4"
  }
 },
 "nbformat": 4,
 "nbformat_minor": 2
}
