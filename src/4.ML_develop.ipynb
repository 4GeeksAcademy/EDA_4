{
 "cells": [
  {
   "cell_type": "code",
   "execution_count": 44,
   "metadata": {},
   "outputs": [],
   "source": [
    "import pandas as pd"
   ]
  },
  {
   "cell_type": "code",
   "execution_count": 45,
   "metadata": {},
   "outputs": [],
   "source": [
    "y_train = pd.read_csv('/workspaces/EDA_4/data/processed/heart_prevalence_y_train.csv')\n",
    "y_test = pd.read_csv('/workspaces/EDA_4/data/processed/heart_prevalence_y_test.csv')\n",
    "X_train_norm = pd.read_csv('/workspaces/EDA_4/data/interim/heart_prevalence_X_train_std.csv')\n",
    "X_test_norm = pd.read_csv('/workspaces/EDA_4/data/interim/heart_prevalence_X_test_std.csv')"
   ]
  },
  {
   "cell_type": "code",
   "execution_count": 46,
   "metadata": {},
   "outputs": [],
   "source": [
    "from sklearn.feature_selection import f_regression, SelectKBest"
   ]
  },
  {
   "cell_type": "code",
   "execution_count": 47,
   "metadata": {},
   "outputs": [
    {
     "ename": "ValueError",
     "evalue": "k should be <= n_features = 8; got 9. Use k='all' to return all features.",
     "output_type": "error",
     "traceback": [
      "\u001b[0;31m---------------------------------------------------------------------------\u001b[0m",
      "\u001b[0;31mValueError\u001b[0m                                Traceback (most recent call last)",
      "\u001b[1;32m/workspaces/EDA_4/src/4.ML_develop.ipynb Celda 4\u001b[0m line \u001b[0;36m2\n\u001b[1;32m      <a href='vscode-notebook-cell://codespaces%2Bhumble-umbrella-4j7jg7xq6vj5hqqgv/workspaces/EDA_4/src/4.ML_develop.ipynb#W3sdnNjb2RlLXJlbW90ZQ%3D%3D?line=0'>1</a>\u001b[0m selection_model \u001b[39m=\u001b[39m SelectKBest(f_regression, k \u001b[39m=\u001b[39m \u001b[39m9\u001b[39m)\n\u001b[0;32m----> <a href='vscode-notebook-cell://codespaces%2Bhumble-umbrella-4j7jg7xq6vj5hqqgv/workspaces/EDA_4/src/4.ML_develop.ipynb#W3sdnNjb2RlLXJlbW90ZQ%3D%3D?line=1'>2</a>\u001b[0m selection_model\u001b[39m.\u001b[39;49mfit(X_train_norm, y_train)\n\u001b[1;32m      <a href='vscode-notebook-cell://codespaces%2Bhumble-umbrella-4j7jg7xq6vj5hqqgv/workspaces/EDA_4/src/4.ML_develop.ipynb#W3sdnNjb2RlLXJlbW90ZQ%3D%3D?line=2'>3</a>\u001b[0m ix \u001b[39m=\u001b[39m selection_model\u001b[39m.\u001b[39mget_support()\n\u001b[1;32m      <a href='vscode-notebook-cell://codespaces%2Bhumble-umbrella-4j7jg7xq6vj5hqqgv/workspaces/EDA_4/src/4.ML_develop.ipynb#W3sdnNjb2RlLXJlbW90ZQ%3D%3D?line=3'>4</a>\u001b[0m X_train_sel \u001b[39m=\u001b[39m pd\u001b[39m.\u001b[39mDataFrame(selection_model\u001b[39m.\u001b[39mtransform(X_train_norm), columns \u001b[39m=\u001b[39m X_train_norm\u001b[39m.\u001b[39mcolumns\u001b[39m.\u001b[39mvalues[ix])\n",
      "File \u001b[0;32m~/.local/lib/python3.11/site-packages/sklearn/base.py:1152\u001b[0m, in \u001b[0;36m_fit_context.<locals>.decorator.<locals>.wrapper\u001b[0;34m(estimator, *args, **kwargs)\u001b[0m\n\u001b[1;32m   1145\u001b[0m     estimator\u001b[39m.\u001b[39m_validate_params()\n\u001b[1;32m   1147\u001b[0m \u001b[39mwith\u001b[39;00m config_context(\n\u001b[1;32m   1148\u001b[0m     skip_parameter_validation\u001b[39m=\u001b[39m(\n\u001b[1;32m   1149\u001b[0m         prefer_skip_nested_validation \u001b[39mor\u001b[39;00m global_skip_validation\n\u001b[1;32m   1150\u001b[0m     )\n\u001b[1;32m   1151\u001b[0m ):\n\u001b[0;32m-> 1152\u001b[0m     \u001b[39mreturn\u001b[39;00m fit_method(estimator, \u001b[39m*\u001b[39;49margs, \u001b[39m*\u001b[39;49m\u001b[39m*\u001b[39;49mkwargs)\n",
      "File \u001b[0;32m~/.local/lib/python3.11/site-packages/sklearn/feature_selection/_univariate_selection.py:502\u001b[0m, in \u001b[0;36m_BaseFilter.fit\u001b[0;34m(self, X, y)\u001b[0m\n\u001b[1;32m    482\u001b[0m \u001b[39m\u001b[39m\u001b[39m\"\"\"Run score function on (X, y) and get the appropriate features.\u001b[39;00m\n\u001b[1;32m    483\u001b[0m \n\u001b[1;32m    484\u001b[0m \u001b[39mParameters\u001b[39;00m\n\u001b[0;32m   (...)\u001b[0m\n\u001b[1;32m    496\u001b[0m \u001b[39m    Returns the instance itself.\u001b[39;00m\n\u001b[1;32m    497\u001b[0m \u001b[39m\"\"\"\u001b[39;00m\n\u001b[1;32m    498\u001b[0m X, y \u001b[39m=\u001b[39m \u001b[39mself\u001b[39m\u001b[39m.\u001b[39m_validate_data(\n\u001b[1;32m    499\u001b[0m     X, y, accept_sparse\u001b[39m=\u001b[39m[\u001b[39m\"\u001b[39m\u001b[39mcsr\u001b[39m\u001b[39m\"\u001b[39m, \u001b[39m\"\u001b[39m\u001b[39mcsc\u001b[39m\u001b[39m\"\u001b[39m], multi_output\u001b[39m=\u001b[39m\u001b[39mTrue\u001b[39;00m\n\u001b[1;32m    500\u001b[0m )\n\u001b[0;32m--> 502\u001b[0m \u001b[39mself\u001b[39;49m\u001b[39m.\u001b[39;49m_check_params(X, y)\n\u001b[1;32m    503\u001b[0m score_func_ret \u001b[39m=\u001b[39m \u001b[39mself\u001b[39m\u001b[39m.\u001b[39mscore_func(X, y)\n\u001b[1;32m    504\u001b[0m \u001b[39mif\u001b[39;00m \u001b[39misinstance\u001b[39m(score_func_ret, (\u001b[39mlist\u001b[39m, \u001b[39mtuple\u001b[39m)):\n",
      "File \u001b[0;32m~/.local/lib/python3.11/site-packages/sklearn/feature_selection/_univariate_selection.py:703\u001b[0m, in \u001b[0;36mSelectKBest._check_params\u001b[0;34m(self, X, y)\u001b[0m\n\u001b[1;32m    701\u001b[0m \u001b[39mdef\u001b[39;00m \u001b[39m_check_params\u001b[39m(\u001b[39mself\u001b[39m, X, y):\n\u001b[1;32m    702\u001b[0m     \u001b[39mif\u001b[39;00m \u001b[39mnot\u001b[39;00m \u001b[39misinstance\u001b[39m(\u001b[39mself\u001b[39m\u001b[39m.\u001b[39mk, \u001b[39mstr\u001b[39m) \u001b[39mand\u001b[39;00m \u001b[39mself\u001b[39m\u001b[39m.\u001b[39mk \u001b[39m>\u001b[39m X\u001b[39m.\u001b[39mshape[\u001b[39m1\u001b[39m]:\n\u001b[0;32m--> 703\u001b[0m         \u001b[39mraise\u001b[39;00m \u001b[39mValueError\u001b[39;00m(\n\u001b[1;32m    704\u001b[0m             \u001b[39mf\u001b[39m\u001b[39m\"\u001b[39m\u001b[39mk should be <= n_features = \u001b[39m\u001b[39m{\u001b[39;00mX\u001b[39m.\u001b[39mshape[\u001b[39m1\u001b[39m]\u001b[39m}\u001b[39;00m\u001b[39m; \u001b[39m\u001b[39m\"\u001b[39m\n\u001b[1;32m    705\u001b[0m             \u001b[39mf\u001b[39m\u001b[39m\"\u001b[39m\u001b[39mgot \u001b[39m\u001b[39m{\u001b[39;00m\u001b[39mself\u001b[39m\u001b[39m.\u001b[39mk\u001b[39m}\u001b[39;00m\u001b[39m. Use k=\u001b[39m\u001b[39m'\u001b[39m\u001b[39mall\u001b[39m\u001b[39m'\u001b[39m\u001b[39m to return all features.\u001b[39m\u001b[39m\"\u001b[39m\n\u001b[1;32m    706\u001b[0m         )\n",
      "\u001b[0;31mValueError\u001b[0m: k should be <= n_features = 8; got 9. Use k='all' to return all features."
     ]
    }
   ],
   "source": [
    "selection_model = SelectKBest(f_regression, k = 8)\n",
    "selection_model.fit(X_train_norm, y_train)\n",
    "ix = selection_model.get_support()\n",
    "X_train_sel = pd.DataFrame(selection_model.transform(X_train_norm), columns = X_train_norm.columns.values[ix])\n",
    "X_test_sel = pd.DataFrame(selection_model.transform(X_test_norm), columns = X_test_norm.columns.values[ix])"
   ]
  },
  {
   "cell_type": "code",
   "execution_count": null,
   "metadata": {},
   "outputs": [],
   "source": [
    "X_train_sel[\"Heart disease_prevalence\"] = y_train\n",
    "X_test_sel[\"Heart disease_prevalence\"] = y_test "
   ]
  },
  {
   "cell_type": "code",
   "execution_count": null,
   "metadata": {},
   "outputs": [],
   "source": [
    "X_train_sel.to_csv(\"/workspaces/EDA_4/data/interim/heart_prevalence_X_train_sel.csv\", index=False)\n",
    "X_test_sel.to_csv(\"/workspaces/EDA_4/data/interim/heart_prevalence_X_test_sel.csv\", index=False)"
   ]
  },
  {
   "cell_type": "code",
   "execution_count": null,
   "metadata": {},
   "outputs": [
    {
     "data": {
      "text/html": [
       "<div>\n",
       "<style scoped>\n",
       "    .dataframe tbody tr th:only-of-type {\n",
       "        vertical-align: middle;\n",
       "    }\n",
       "\n",
       "    .dataframe tbody tr th {\n",
       "        vertical-align: top;\n",
       "    }\n",
       "\n",
       "    .dataframe thead th {\n",
       "        text-align: right;\n",
       "    }\n",
       "</style>\n",
       "<table border=\"1\" class=\"dataframe\">\n",
       "  <thead>\n",
       "    <tr style=\"text-align: right;\">\n",
       "      <th></th>\n",
       "      <th>0</th>\n",
       "      <th>1</th>\n",
       "      <th>2</th>\n",
       "      <th>3</th>\n",
       "      <th>4</th>\n",
       "      <th>5</th>\n",
       "      <th>6</th>\n",
       "      <th>7</th>\n",
       "      <th>Heart disease_prevalence</th>\n",
       "    </tr>\n",
       "  </thead>\n",
       "  <tbody>\n",
       "    <tr>\n",
       "      <th>0</th>\n",
       "      <td>1.592553</td>\n",
       "      <td>0.820420</td>\n",
       "      <td>-0.393446</td>\n",
       "      <td>-1.254632</td>\n",
       "      <td>-1.034310</td>\n",
       "      <td>-0.690028</td>\n",
       "      <td>-1.329247</td>\n",
       "      <td>-1.063396</td>\n",
       "      <td>7.321739</td>\n",
       "    </tr>\n",
       "    <tr>\n",
       "      <th>1</th>\n",
       "      <td>0.802857</td>\n",
       "      <td>0.113865</td>\n",
       "      <td>0.558434</td>\n",
       "      <td>-0.126974</td>\n",
       "      <td>-0.141938</td>\n",
       "      <td>-0.158183</td>\n",
       "      <td>-0.433800</td>\n",
       "      <td>-0.535918</td>\n",
       "      <td>8.031343</td>\n",
       "    </tr>\n",
       "    <tr>\n",
       "      <th>2</th>\n",
       "      <td>-0.644918</td>\n",
       "      <td>-0.311410</td>\n",
       "      <td>0.579479</td>\n",
       "      <td>0.363973</td>\n",
       "      <td>0.936350</td>\n",
       "      <td>-0.307709</td>\n",
       "      <td>0.011809</td>\n",
       "      <td>-0.196489</td>\n",
       "      <td>8.315238</td>\n",
       "    </tr>\n",
       "    <tr>\n",
       "      <th>3</th>\n",
       "      <td>0.210586</td>\n",
       "      <td>1.409531</td>\n",
       "      <td>0.635620</td>\n",
       "      <td>-1.011609</td>\n",
       "      <td>-1.099331</td>\n",
       "      <td>-0.350395</td>\n",
       "      <td>-1.043889</td>\n",
       "      <td>-1.534241</td>\n",
       "      <td>7.230000</td>\n",
       "    </tr>\n",
       "    <tr>\n",
       "      <th>4</th>\n",
       "      <td>0.342202</td>\n",
       "      <td>-1.292706</td>\n",
       "      <td>0.882003</td>\n",
       "      <td>0.003443</td>\n",
       "      <td>-0.337835</td>\n",
       "      <td>-0.487564</td>\n",
       "      <td>0.924241</td>\n",
       "      <td>1.998352</td>\n",
       "      <td>8.663636</td>\n",
       "    </tr>\n",
       "  </tbody>\n",
       "</table>\n",
       "</div>"
      ],
      "text/plain": [
       "          0         1         2         3         4         5         6  \\\n",
       "0  1.592553  0.820420 -0.393446 -1.254632 -1.034310 -0.690028 -1.329247   \n",
       "1  0.802857  0.113865  0.558434 -0.126974 -0.141938 -0.158183 -0.433800   \n",
       "2 -0.644918 -0.311410  0.579479  0.363973  0.936350 -0.307709  0.011809   \n",
       "3  0.210586  1.409531  0.635620 -1.011609 -1.099331 -0.350395 -1.043889   \n",
       "4  0.342202 -1.292706  0.882003  0.003443 -0.337835 -0.487564  0.924241   \n",
       "\n",
       "          7  Heart disease_prevalence  \n",
       "0 -1.063396                  7.321739  \n",
       "1 -0.535918                  8.031343  \n",
       "2 -0.196489                  8.315238  \n",
       "3 -1.534241                  7.230000  \n",
       "4  1.998352                  8.663636  "
      ]
     },
     "execution_count": 40,
     "metadata": {},
     "output_type": "execute_result"
    }
   ],
   "source": [
    "train_data = X_train_sel\n",
    "test_data = X_test_sel\n",
    "train_data.head()"
   ]
  },
  {
   "cell_type": "code",
   "execution_count": null,
   "metadata": {},
   "outputs": [
    {
     "data": {
      "text/html": [
       "<div>\n",
       "<style scoped>\n",
       "    .dataframe tbody tr th:only-of-type {\n",
       "        vertical-align: middle;\n",
       "    }\n",
       "\n",
       "    .dataframe tbody tr th {\n",
       "        vertical-align: top;\n",
       "    }\n",
       "\n",
       "    .dataframe thead th {\n",
       "        text-align: right;\n",
       "    }\n",
       "</style>\n",
       "<table border=\"1\" class=\"dataframe\">\n",
       "  <thead>\n",
       "    <tr style=\"text-align: right;\">\n",
       "      <th></th>\n",
       "      <th>0</th>\n",
       "      <th>1</th>\n",
       "      <th>2</th>\n",
       "      <th>3</th>\n",
       "      <th>4</th>\n",
       "      <th>5</th>\n",
       "      <th>6</th>\n",
       "      <th>7</th>\n",
       "    </tr>\n",
       "  </thead>\n",
       "  <tbody>\n",
       "    <tr>\n",
       "      <th>0</th>\n",
       "      <td>1.592553</td>\n",
       "      <td>0.820420</td>\n",
       "      <td>-0.393446</td>\n",
       "      <td>-1.254632</td>\n",
       "      <td>-1.034310</td>\n",
       "      <td>-0.690028</td>\n",
       "      <td>-1.329247</td>\n",
       "      <td>-1.063396</td>\n",
       "    </tr>\n",
       "    <tr>\n",
       "      <th>1</th>\n",
       "      <td>0.802857</td>\n",
       "      <td>0.113865</td>\n",
       "      <td>0.558434</td>\n",
       "      <td>-0.126974</td>\n",
       "      <td>-0.141938</td>\n",
       "      <td>-0.158183</td>\n",
       "      <td>-0.433800</td>\n",
       "      <td>-0.535918</td>\n",
       "    </tr>\n",
       "    <tr>\n",
       "      <th>2</th>\n",
       "      <td>-0.644918</td>\n",
       "      <td>-0.311410</td>\n",
       "      <td>0.579479</td>\n",
       "      <td>0.363973</td>\n",
       "      <td>0.936350</td>\n",
       "      <td>-0.307709</td>\n",
       "      <td>0.011809</td>\n",
       "      <td>-0.196489</td>\n",
       "    </tr>\n",
       "    <tr>\n",
       "      <th>3</th>\n",
       "      <td>0.210586</td>\n",
       "      <td>1.409531</td>\n",
       "      <td>0.635620</td>\n",
       "      <td>-1.011609</td>\n",
       "      <td>-1.099331</td>\n",
       "      <td>-0.350395</td>\n",
       "      <td>-1.043889</td>\n",
       "      <td>-1.534241</td>\n",
       "    </tr>\n",
       "    <tr>\n",
       "      <th>4</th>\n",
       "      <td>0.342202</td>\n",
       "      <td>-1.292706</td>\n",
       "      <td>0.882003</td>\n",
       "      <td>0.003443</td>\n",
       "      <td>-0.337835</td>\n",
       "      <td>-0.487564</td>\n",
       "      <td>0.924241</td>\n",
       "      <td>1.998352</td>\n",
       "    </tr>\n",
       "  </tbody>\n",
       "</table>\n",
       "</div>"
      ],
      "text/plain": [
       "          0         1         2         3         4         5         6  \\\n",
       "0  1.592553  0.820420 -0.393446 -1.254632 -1.034310 -0.690028 -1.329247   \n",
       "1  0.802857  0.113865  0.558434 -0.126974 -0.141938 -0.158183 -0.433800   \n",
       "2 -0.644918 -0.311410  0.579479  0.363973  0.936350 -0.307709  0.011809   \n",
       "3  0.210586  1.409531  0.635620 -1.011609 -1.099331 -0.350395 -1.043889   \n",
       "4  0.342202 -1.292706  0.882003  0.003443 -0.337835 -0.487564  0.924241   \n",
       "\n",
       "          7  \n",
       "0 -1.063396  \n",
       "1 -0.535918  \n",
       "2 -0.196489  \n",
       "3 -1.534241  \n",
       "4  1.998352  "
      ]
     },
     "execution_count": 41,
     "metadata": {},
     "output_type": "execute_result"
    }
   ],
   "source": [
    "X_train = train_data.drop([\"Heart disease_prevalence\"], axis = 1)\n",
    "y_train = train_data[\"Heart disease_prevalence\"]\n",
    "X_train.head()"
   ]
  },
  {
   "cell_type": "code",
   "execution_count": null,
   "metadata": {},
   "outputs": [
    {
     "data": {
      "text/html": [
       "<div>\n",
       "<style scoped>\n",
       "    .dataframe tbody tr th:only-of-type {\n",
       "        vertical-align: middle;\n",
       "    }\n",
       "\n",
       "    .dataframe tbody tr th {\n",
       "        vertical-align: top;\n",
       "    }\n",
       "\n",
       "    .dataframe thead th {\n",
       "        text-align: right;\n",
       "    }\n",
       "</style>\n",
       "<table border=\"1\" class=\"dataframe\">\n",
       "  <thead>\n",
       "    <tr style=\"text-align: right;\">\n",
       "      <th></th>\n",
       "      <th>0</th>\n",
       "      <th>1</th>\n",
       "      <th>2</th>\n",
       "      <th>3</th>\n",
       "      <th>4</th>\n",
       "      <th>5</th>\n",
       "      <th>6</th>\n",
       "      <th>7</th>\n",
       "    </tr>\n",
       "  </thead>\n",
       "  <tbody>\n",
       "    <tr>\n",
       "      <th>0</th>\n",
       "      <td>-0.381686</td>\n",
       "      <td>2.333274</td>\n",
       "      <td>-0.914804</td>\n",
       "      <td>-0.312357</td>\n",
       "      <td>-0.103458</td>\n",
       "      <td>-0.745705</td>\n",
       "      <td>-0.220811</td>\n",
       "      <td>-1.029929</td>\n",
       "    </tr>\n",
       "    <tr>\n",
       "      <th>1</th>\n",
       "      <td>-1.171382</td>\n",
       "      <td>3.201860</td>\n",
       "      <td>-3.699774</td>\n",
       "      <td>-2.592387</td>\n",
       "      <td>-2.434579</td>\n",
       "      <td>-2.193322</td>\n",
       "      <td>-2.465568</td>\n",
       "      <td>-2.489778</td>\n",
       "    </tr>\n",
       "    <tr>\n",
       "      <th>2</th>\n",
       "      <td>0.737049</td>\n",
       "      <td>-0.023037</td>\n",
       "      <td>1.816672</td>\n",
       "      <td>-0.233735</td>\n",
       "      <td>-0.412420</td>\n",
       "      <td>0.063166</td>\n",
       "      <td>-0.085710</td>\n",
       "      <td>0.403377</td>\n",
       "    </tr>\n",
       "    <tr>\n",
       "      <th>3</th>\n",
       "      <td>-1.368806</td>\n",
       "      <td>0.546627</td>\n",
       "      <td>0.280258</td>\n",
       "      <td>-1.980160</td>\n",
       "      <td>-2.283529</td>\n",
       "      <td>-1.204175</td>\n",
       "      <td>-1.573678</td>\n",
       "      <td>-0.723029</td>\n",
       "    </tr>\n",
       "    <tr>\n",
       "      <th>4</th>\n",
       "      <td>-0.447494</td>\n",
       "      <td>-0.386932</td>\n",
       "      <td>1.693048</td>\n",
       "      <td>-0.434702</td>\n",
       "      <td>-0.682066</td>\n",
       "      <td>0.068579</td>\n",
       "      <td>-0.628342</td>\n",
       "      <td>-0.081028</td>\n",
       "    </tr>\n",
       "  </tbody>\n",
       "</table>\n",
       "</div>"
      ],
      "text/plain": [
       "          0         1         2         3         4         5         6  \\\n",
       "0 -0.381686  2.333274 -0.914804 -0.312357 -0.103458 -0.745705 -0.220811   \n",
       "1 -1.171382  3.201860 -3.699774 -2.592387 -2.434579 -2.193322 -2.465568   \n",
       "2  0.737049 -0.023037  1.816672 -0.233735 -0.412420  0.063166 -0.085710   \n",
       "3 -1.368806  0.546627  0.280258 -1.980160 -2.283529 -1.204175 -1.573678   \n",
       "4 -0.447494 -0.386932  1.693048 -0.434702 -0.682066  0.068579 -0.628342   \n",
       "\n",
       "          7  \n",
       "0 -1.029929  \n",
       "1 -2.489778  \n",
       "2  0.403377  \n",
       "3 -0.723029  \n",
       "4 -0.081028  "
      ]
     },
     "execution_count": 42,
     "metadata": {},
     "output_type": "execute_result"
    }
   ],
   "source": [
    "X_test = test_data.drop([\"Heart disease_prevalence\"], axis = 1)\n",
    "y_test = test_data[\"Heart disease_prevalence\"]\n",
    "X_test.head()"
   ]
  },
  {
   "cell_type": "code",
   "execution_count": 49,
   "metadata": {},
   "outputs": [
    {
     "data": {
      "text/html": [
       "<style>#sk-container-id-2 {color: black;}#sk-container-id-2 pre{padding: 0;}#sk-container-id-2 div.sk-toggleable {background-color: white;}#sk-container-id-2 label.sk-toggleable__label {cursor: pointer;display: block;width: 100%;margin-bottom: 0;padding: 0.3em;box-sizing: border-box;text-align: center;}#sk-container-id-2 label.sk-toggleable__label-arrow:before {content: \"▸\";float: left;margin-right: 0.25em;color: #696969;}#sk-container-id-2 label.sk-toggleable__label-arrow:hover:before {color: black;}#sk-container-id-2 div.sk-estimator:hover label.sk-toggleable__label-arrow:before {color: black;}#sk-container-id-2 div.sk-toggleable__content {max-height: 0;max-width: 0;overflow: hidden;text-align: left;background-color: #f0f8ff;}#sk-container-id-2 div.sk-toggleable__content pre {margin: 0.2em;color: black;border-radius: 0.25em;background-color: #f0f8ff;}#sk-container-id-2 input.sk-toggleable__control:checked~div.sk-toggleable__content {max-height: 200px;max-width: 100%;overflow: auto;}#sk-container-id-2 input.sk-toggleable__control:checked~label.sk-toggleable__label-arrow:before {content: \"▾\";}#sk-container-id-2 div.sk-estimator input.sk-toggleable__control:checked~label.sk-toggleable__label {background-color: #d4ebff;}#sk-container-id-2 div.sk-label input.sk-toggleable__control:checked~label.sk-toggleable__label {background-color: #d4ebff;}#sk-container-id-2 input.sk-hidden--visually {border: 0;clip: rect(1px 1px 1px 1px);clip: rect(1px, 1px, 1px, 1px);height: 1px;margin: -1px;overflow: hidden;padding: 0;position: absolute;width: 1px;}#sk-container-id-2 div.sk-estimator {font-family: monospace;background-color: #f0f8ff;border: 1px dotted black;border-radius: 0.25em;box-sizing: border-box;margin-bottom: 0.5em;}#sk-container-id-2 div.sk-estimator:hover {background-color: #d4ebff;}#sk-container-id-2 div.sk-parallel-item::after {content: \"\";width: 100%;border-bottom: 1px solid gray;flex-grow: 1;}#sk-container-id-2 div.sk-label:hover label.sk-toggleable__label {background-color: #d4ebff;}#sk-container-id-2 div.sk-serial::before {content: \"\";position: absolute;border-left: 1px solid gray;box-sizing: border-box;top: 0;bottom: 0;left: 50%;z-index: 0;}#sk-container-id-2 div.sk-serial {display: flex;flex-direction: column;align-items: center;background-color: white;padding-right: 0.2em;padding-left: 0.2em;position: relative;}#sk-container-id-2 div.sk-item {position: relative;z-index: 1;}#sk-container-id-2 div.sk-parallel {display: flex;align-items: stretch;justify-content: center;background-color: white;position: relative;}#sk-container-id-2 div.sk-item::before, #sk-container-id-2 div.sk-parallel-item::before {content: \"\";position: absolute;border-left: 1px solid gray;box-sizing: border-box;top: 0;bottom: 0;left: 50%;z-index: -1;}#sk-container-id-2 div.sk-parallel-item {display: flex;flex-direction: column;z-index: 1;position: relative;background-color: white;}#sk-container-id-2 div.sk-parallel-item:first-child::after {align-self: flex-end;width: 50%;}#sk-container-id-2 div.sk-parallel-item:last-child::after {align-self: flex-start;width: 50%;}#sk-container-id-2 div.sk-parallel-item:only-child::after {width: 0;}#sk-container-id-2 div.sk-dashed-wrapped {border: 1px dashed gray;margin: 0 0.4em 0.5em 0.4em;box-sizing: border-box;padding-bottom: 0.4em;background-color: white;}#sk-container-id-2 div.sk-label label {font-family: monospace;font-weight: bold;display: inline-block;line-height: 1.2em;}#sk-container-id-2 div.sk-label-container {text-align: center;}#sk-container-id-2 div.sk-container {/* jupyter's `normalize.less` sets `[hidden] { display: none; }` but bootstrap.min.css set `[hidden] { display: none !important; }` so we also need the `!important` here to be able to override the default hidden behavior on the sphinx rendered scikit-learn.org. See: https://github.com/scikit-learn/scikit-learn/issues/21755 */display: inline-block !important;position: relative;}#sk-container-id-2 div.sk-text-repr-fallback {display: none;}</style><div id=\"sk-container-id-2\" class=\"sk-top-container\"><div class=\"sk-text-repr-fallback\"><pre>LinearRegression()</pre><b>In a Jupyter environment, please rerun this cell to show the HTML representation or trust the notebook. <br />On GitHub, the HTML representation is unable to render, please try loading this page with nbviewer.org.</b></div><div class=\"sk-container\" hidden><div class=\"sk-item\"><div class=\"sk-estimator sk-toggleable\"><input class=\"sk-toggleable__control sk-hidden--visually\" id=\"sk-estimator-id-2\" type=\"checkbox\" checked><label for=\"sk-estimator-id-2\" class=\"sk-toggleable__label sk-toggleable__label-arrow\">LinearRegression</label><div class=\"sk-toggleable__content\"><pre>LinearRegression()</pre></div></div></div></div></div>"
      ],
      "text/plain": [
       "LinearRegression()"
      ]
     },
     "execution_count": 49,
     "metadata": {},
     "output_type": "execute_result"
    }
   ],
   "source": [
    "from sklearn.linear_model import LinearRegression\n",
    "\n",
    "model = LinearRegression()\n",
    "model.fit(X_train_sel, y_train)"
   ]
  },
  {
   "cell_type": "code",
   "execution_count": 50,
   "metadata": {},
   "outputs": [
    {
     "name": "stdout",
     "output_type": "stream",
     "text": [
      "Intercept (a): [1.24344979e-14]\n",
      "Coefficients (b): [[ 8.94569570e-17 -5.55111512e-16  6.10622664e-16  4.85722573e-17\n",
      "   2.63677968e-16  4.68375339e-16  8.60422844e-16 -4.23272528e-16\n",
      "   1.00000000e+00]]\n"
     ]
    }
   ],
   "source": [
    "print(f\"Intercept (a): {model.intercept_}\")\n",
    "print(f\"Coefficients (b): {model.coef_}\")"
   ]
  },
  {
   "cell_type": "code",
   "execution_count": 52,
   "metadata": {},
   "outputs": [
    {
     "data": {
      "text/plain": [
       "array([[7.03333333],\n",
       "       [4.1       ],\n",
       "       [8.71388889],\n",
       "       [6.9765625 ],\n",
       "       [8.725     ],\n",
       "       [9.063     ],\n",
       "       [9.        ],\n",
       "       [6.61428571],\n",
       "       [8.68030303],\n",
       "       [6.52857143],\n",
       "       [8.13333333]])"
      ]
     },
     "execution_count": 52,
     "metadata": {},
     "output_type": "execute_result"
    }
   ],
   "source": [
    "y_pred = model.predict(X_test_sel)\n",
    "y_pred"
   ]
  },
  {
   "cell_type": "code",
   "execution_count": 53,
   "metadata": {},
   "outputs": [
    {
     "name": "stdout",
     "output_type": "stream",
     "text": [
      "Error cuadrático medio: 1.6494364381893883e-30\n",
      "Coeficiente de determinación: 1.0\n"
     ]
    }
   ],
   "source": [
    "from sklearn.metrics import mean_squared_error, r2_score\n",
    "\n",
    "print(f\"Error cuadrático medio: {mean_squared_error(y_test, y_pred)}\")\n",
    "print(f\"Coeficiente de determinación: {r2_score(y_test, y_pred)}\")"
   ]
  }
 ],
 "metadata": {
  "kernelspec": {
   "display_name": "Python 3",
   "language": "python",
   "name": "python3"
  },
  "language_info": {
   "codemirror_mode": {
    "name": "ipython",
    "version": 3
   },
   "file_extension": ".py",
   "mimetype": "text/x-python",
   "name": "python",
   "nbconvert_exporter": "python",
   "pygments_lexer": "ipython3",
   "version": "3.11.4"
  }
 },
 "nbformat": 4,
 "nbformat_minor": 2
}
