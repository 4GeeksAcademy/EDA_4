{
 "cells": [
  {
   "cell_type": "code",
   "execution_count": 1,
   "metadata": {},
   "outputs": [],
   "source": [
    "import pandas as pd\n",
    "from sklearn.linear_model import LinearRegression\n",
    "from pickle import dump\n",
    "from sklearn.metrics import mean_squared_error, r2_score\n",
    "import math"
   ]
  },
  {
   "cell_type": "code",
   "execution_count": 2,
   "metadata": {},
   "outputs": [],
   "source": [
    "y_train = pd.read_csv('/workspaces/EDA_4/data/processed/heart_prevalence_y_train.csv')\n",
    "y_test = pd.read_csv('/workspaces/EDA_4/data/processed/heart_prevalence_y_test.csv')\n",
    "X_train_norm = pd.read_csv('/workspaces/EDA_4/data/interim/heart_prevalence_X_train_std.csv')\n",
    "X_test_norm = pd.read_csv('/workspaces/EDA_4/data/interim/heart_prevalence_X_test_std.csv')"
   ]
  },
  {
   "cell_type": "code",
   "execution_count": 3,
   "metadata": {},
   "outputs": [],
   "source": [
    "from sklearn.feature_selection import f_regression, SelectKBest"
   ]
  },
  {
   "cell_type": "code",
   "execution_count": 4,
   "metadata": {},
   "outputs": [
    {
     "name": "stdout",
     "output_type": "stream",
     "text": [
      "Error cuadrático medio: 0.5255850187397291\n",
      "Coeficiente de determinación: 0.9599941816299377\n"
     ]
    },
    {
     "name": "stderr",
     "output_type": "stream",
     "text": [
      "/home/vscode/.local/lib/python3.11/site-packages/sklearn/utils/validation.py:1183: DataConversionWarning: A column-vector y was passed when a 1d array was expected. Please change the shape of y to (n_samples, ), for example using ravel().\n",
      "  y = column_or_1d(y, warn=True)\n"
     ]
    }
   ],
   "source": [
    "rmss = []\n",
    "r2s = []\n",
    "for p in [1, 0.8, 0.7, 0.6, 0.5]:\n",
    "\n",
    "    selection_model = SelectKBest(f_regression, k = int(len(X_train_norm.columns) * p))\n",
    "    selection_model.fit(X_train_norm, y_train)\n",
    "    ix = selection_model.get_support()\n",
    "\n",
    "    X_train_sel = pd.DataFrame(selection_model.transform(X_train_norm), columns = X_train_norm.columns.values[ix])\n",
    "    X_test_sel = pd.DataFrame(selection_model.transform(X_test_norm), columns = X_test_norm.columns.values[ix])\n",
    "\n",
    "    dump(selection_model, open(f\"/workspaces/EDA_4/models/selection_model{p}.pk\", \"wb\"))\n",
    "\n",
    "    X_train_sel[\"Heart disease_prevalence\"] = y_train\n",
    "    X_test_sel[\"Heart disease_prevalence\"] = y_test \n",
    "    train_data = X_train_sel\n",
    "    test_data = X_test_sel\n",
    "\n",
    "    X_train = train_data.drop([\"Heart disease_prevalence\"], axis = 1)\n",
    "    y_train = train_data[\"Heart disease_prevalence\"]\n",
    "    X_test = test_data.drop([\"Heart disease_prevalence\"], axis = 1)\n",
    "    y_test = test_data[\"Heart disease_prevalence\"]  \n",
    "\n",
    "    model = LinearRegression()\n",
    "    model.fit(X_train, y_train)\n",
    "    y_pred = model.predict(X_test)\n",
    "    rmss.append(math.sqrt(mean_squared_error(y_test, y_pred)))\n",
    "    r2s.append(r2_score(y_test, y_pred))\n",
    "\n",
    "best_rmss = rmss.index(max(rmss)) \n",
    "best_r2s = r2s.index(max(r2s)) \n",
    "\n",
    "print(f\"Error cuadrático medio: {rmss[best_rmss]}\")\n",
    "print(f\"Coeficiente de determinación: {r2s[best_r2s]}\")\n",
    "\n",
    "\n",
    "    "
   ]
  },
  {
   "cell_type": "code",
   "execution_count": 5,
   "metadata": {},
   "outputs": [],
   "source": [
    "X_train_sel[\"Heart disease_prevalence\"] = y_train\n",
    "X_test_sel[\"Heart disease_prevalence\"] = y_test "
   ]
  },
  {
   "cell_type": "code",
   "execution_count": 6,
   "metadata": {},
   "outputs": [],
   "source": [
    "X_train_sel.to_csv(\"/workspaces/EDA_4/data/interim/heart_prevalence_X_train_sel.csv\", index=False)\n",
    "X_test_sel.to_csv(\"/workspaces/EDA_4/data/interim/heart_prevalence_X_test_sel.csv\", index=False)"
   ]
  },
  {
   "cell_type": "code",
   "execution_count": 7,
   "metadata": {},
   "outputs": [
    {
     "data": {
      "text/html": [
       "<div>\n",
       "<style scoped>\n",
       "    .dataframe tbody tr th:only-of-type {\n",
       "        vertical-align: middle;\n",
       "    }\n",
       "\n",
       "    .dataframe tbody tr th {\n",
       "        vertical-align: top;\n",
       "    }\n",
       "\n",
       "    .dataframe thead th {\n",
       "        text-align: right;\n",
       "    }\n",
       "</style>\n",
       "<table border=\"1\" class=\"dataframe\">\n",
       "  <thead>\n",
       "    <tr style=\"text-align: right;\">\n",
       "      <th></th>\n",
       "      <th>6</th>\n",
       "      <th>8</th>\n",
       "      <th>9</th>\n",
       "      <th>10</th>\n",
       "      <th>11</th>\n",
       "      <th>12</th>\n",
       "      <th>Heart disease_prevalence</th>\n",
       "    </tr>\n",
       "  </thead>\n",
       "  <tbody>\n",
       "    <tr>\n",
       "      <th>0</th>\n",
       "      <td>0.820420</td>\n",
       "      <td>-1.254632</td>\n",
       "      <td>-1.034310</td>\n",
       "      <td>-0.690028</td>\n",
       "      <td>-1.329247</td>\n",
       "      <td>-1.063396</td>\n",
       "      <td>7.321739</td>\n",
       "    </tr>\n",
       "    <tr>\n",
       "      <th>1</th>\n",
       "      <td>0.113865</td>\n",
       "      <td>-0.126974</td>\n",
       "      <td>-0.141938</td>\n",
       "      <td>-0.158183</td>\n",
       "      <td>-0.433800</td>\n",
       "      <td>-0.535918</td>\n",
       "      <td>8.031343</td>\n",
       "    </tr>\n",
       "    <tr>\n",
       "      <th>2</th>\n",
       "      <td>-0.311410</td>\n",
       "      <td>0.363973</td>\n",
       "      <td>0.936350</td>\n",
       "      <td>-0.307709</td>\n",
       "      <td>0.011809</td>\n",
       "      <td>-0.196489</td>\n",
       "      <td>8.315238</td>\n",
       "    </tr>\n",
       "    <tr>\n",
       "      <th>3</th>\n",
       "      <td>1.409531</td>\n",
       "      <td>-1.011609</td>\n",
       "      <td>-1.099331</td>\n",
       "      <td>-0.350395</td>\n",
       "      <td>-1.043889</td>\n",
       "      <td>-1.534241</td>\n",
       "      <td>7.230000</td>\n",
       "    </tr>\n",
       "    <tr>\n",
       "      <th>4</th>\n",
       "      <td>-1.292706</td>\n",
       "      <td>0.003443</td>\n",
       "      <td>-0.337835</td>\n",
       "      <td>-0.487564</td>\n",
       "      <td>0.924241</td>\n",
       "      <td>1.998352</td>\n",
       "      <td>8.663636</td>\n",
       "    </tr>\n",
       "  </tbody>\n",
       "</table>\n",
       "</div>"
      ],
      "text/plain": [
       "          6         8         9        10        11        12  \\\n",
       "0  0.820420 -1.254632 -1.034310 -0.690028 -1.329247 -1.063396   \n",
       "1  0.113865 -0.126974 -0.141938 -0.158183 -0.433800 -0.535918   \n",
       "2 -0.311410  0.363973  0.936350 -0.307709  0.011809 -0.196489   \n",
       "3  1.409531 -1.011609 -1.099331 -0.350395 -1.043889 -1.534241   \n",
       "4 -1.292706  0.003443 -0.337835 -0.487564  0.924241  1.998352   \n",
       "\n",
       "   Heart disease_prevalence  \n",
       "0                  7.321739  \n",
       "1                  8.031343  \n",
       "2                  8.315238  \n",
       "3                  7.230000  \n",
       "4                  8.663636  "
      ]
     },
     "execution_count": 7,
     "metadata": {},
     "output_type": "execute_result"
    }
   ],
   "source": [
    "train_data = X_train_sel\n",
    "test_data = X_test_sel\n",
    "train_data.head()"
   ]
  },
  {
   "cell_type": "code",
   "execution_count": 8,
   "metadata": {},
   "outputs": [
    {
     "data": {
      "text/html": [
       "<div>\n",
       "<style scoped>\n",
       "    .dataframe tbody tr th:only-of-type {\n",
       "        vertical-align: middle;\n",
       "    }\n",
       "\n",
       "    .dataframe tbody tr th {\n",
       "        vertical-align: top;\n",
       "    }\n",
       "\n",
       "    .dataframe thead th {\n",
       "        text-align: right;\n",
       "    }\n",
       "</style>\n",
       "<table border=\"1\" class=\"dataframe\">\n",
       "  <thead>\n",
       "    <tr style=\"text-align: right;\">\n",
       "      <th></th>\n",
       "      <th>6</th>\n",
       "      <th>8</th>\n",
       "      <th>9</th>\n",
       "      <th>10</th>\n",
       "      <th>11</th>\n",
       "      <th>12</th>\n",
       "    </tr>\n",
       "  </thead>\n",
       "  <tbody>\n",
       "    <tr>\n",
       "      <th>0</th>\n",
       "      <td>0.820420</td>\n",
       "      <td>-1.254632</td>\n",
       "      <td>-1.034310</td>\n",
       "      <td>-0.690028</td>\n",
       "      <td>-1.329247</td>\n",
       "      <td>-1.063396</td>\n",
       "    </tr>\n",
       "    <tr>\n",
       "      <th>1</th>\n",
       "      <td>0.113865</td>\n",
       "      <td>-0.126974</td>\n",
       "      <td>-0.141938</td>\n",
       "      <td>-0.158183</td>\n",
       "      <td>-0.433800</td>\n",
       "      <td>-0.535918</td>\n",
       "    </tr>\n",
       "    <tr>\n",
       "      <th>2</th>\n",
       "      <td>-0.311410</td>\n",
       "      <td>0.363973</td>\n",
       "      <td>0.936350</td>\n",
       "      <td>-0.307709</td>\n",
       "      <td>0.011809</td>\n",
       "      <td>-0.196489</td>\n",
       "    </tr>\n",
       "    <tr>\n",
       "      <th>3</th>\n",
       "      <td>1.409531</td>\n",
       "      <td>-1.011609</td>\n",
       "      <td>-1.099331</td>\n",
       "      <td>-0.350395</td>\n",
       "      <td>-1.043889</td>\n",
       "      <td>-1.534241</td>\n",
       "    </tr>\n",
       "    <tr>\n",
       "      <th>4</th>\n",
       "      <td>-1.292706</td>\n",
       "      <td>0.003443</td>\n",
       "      <td>-0.337835</td>\n",
       "      <td>-0.487564</td>\n",
       "      <td>0.924241</td>\n",
       "      <td>1.998352</td>\n",
       "    </tr>\n",
       "  </tbody>\n",
       "</table>\n",
       "</div>"
      ],
      "text/plain": [
       "          6         8         9        10        11        12\n",
       "0  0.820420 -1.254632 -1.034310 -0.690028 -1.329247 -1.063396\n",
       "1  0.113865 -0.126974 -0.141938 -0.158183 -0.433800 -0.535918\n",
       "2 -0.311410  0.363973  0.936350 -0.307709  0.011809 -0.196489\n",
       "3  1.409531 -1.011609 -1.099331 -0.350395 -1.043889 -1.534241\n",
       "4 -1.292706  0.003443 -0.337835 -0.487564  0.924241  1.998352"
      ]
     },
     "execution_count": 8,
     "metadata": {},
     "output_type": "execute_result"
    }
   ],
   "source": [
    "X_train = train_data.drop([\"Heart disease_prevalence\"], axis = 1)\n",
    "y_train = train_data[\"Heart disease_prevalence\"]\n",
    "X_train.head()"
   ]
  },
  {
   "cell_type": "code",
   "execution_count": 9,
   "metadata": {},
   "outputs": [
    {
     "data": {
      "text/html": [
       "<div>\n",
       "<style scoped>\n",
       "    .dataframe tbody tr th:only-of-type {\n",
       "        vertical-align: middle;\n",
       "    }\n",
       "\n",
       "    .dataframe tbody tr th {\n",
       "        vertical-align: top;\n",
       "    }\n",
       "\n",
       "    .dataframe thead th {\n",
       "        text-align: right;\n",
       "    }\n",
       "</style>\n",
       "<table border=\"1\" class=\"dataframe\">\n",
       "  <thead>\n",
       "    <tr style=\"text-align: right;\">\n",
       "      <th></th>\n",
       "      <th>6</th>\n",
       "      <th>8</th>\n",
       "      <th>9</th>\n",
       "      <th>10</th>\n",
       "      <th>11</th>\n",
       "      <th>12</th>\n",
       "    </tr>\n",
       "  </thead>\n",
       "  <tbody>\n",
       "    <tr>\n",
       "      <th>0</th>\n",
       "      <td>2.333274</td>\n",
       "      <td>-0.312357</td>\n",
       "      <td>-0.103458</td>\n",
       "      <td>-0.745705</td>\n",
       "      <td>-0.220811</td>\n",
       "      <td>-1.029929</td>\n",
       "    </tr>\n",
       "    <tr>\n",
       "      <th>1</th>\n",
       "      <td>3.201860</td>\n",
       "      <td>-2.592387</td>\n",
       "      <td>-2.434579</td>\n",
       "      <td>-2.193322</td>\n",
       "      <td>-2.465568</td>\n",
       "      <td>-2.489778</td>\n",
       "    </tr>\n",
       "    <tr>\n",
       "      <th>2</th>\n",
       "      <td>-0.023037</td>\n",
       "      <td>-0.233735</td>\n",
       "      <td>-0.412420</td>\n",
       "      <td>0.063166</td>\n",
       "      <td>-0.085710</td>\n",
       "      <td>0.403377</td>\n",
       "    </tr>\n",
       "    <tr>\n",
       "      <th>3</th>\n",
       "      <td>0.546627</td>\n",
       "      <td>-1.980160</td>\n",
       "      <td>-2.283529</td>\n",
       "      <td>-1.204175</td>\n",
       "      <td>-1.573678</td>\n",
       "      <td>-0.723029</td>\n",
       "    </tr>\n",
       "    <tr>\n",
       "      <th>4</th>\n",
       "      <td>-0.386932</td>\n",
       "      <td>-0.434702</td>\n",
       "      <td>-0.682066</td>\n",
       "      <td>0.068579</td>\n",
       "      <td>-0.628342</td>\n",
       "      <td>-0.081028</td>\n",
       "    </tr>\n",
       "  </tbody>\n",
       "</table>\n",
       "</div>"
      ],
      "text/plain": [
       "          6         8         9        10        11        12\n",
       "0  2.333274 -0.312357 -0.103458 -0.745705 -0.220811 -1.029929\n",
       "1  3.201860 -2.592387 -2.434579 -2.193322 -2.465568 -2.489778\n",
       "2 -0.023037 -0.233735 -0.412420  0.063166 -0.085710  0.403377\n",
       "3  0.546627 -1.980160 -2.283529 -1.204175 -1.573678 -0.723029\n",
       "4 -0.386932 -0.434702 -0.682066  0.068579 -0.628342 -0.081028"
      ]
     },
     "execution_count": 9,
     "metadata": {},
     "output_type": "execute_result"
    }
   ],
   "source": [
    "X_test = test_data.drop([\"Heart disease_prevalence\"], axis = 1)\n",
    "y_test = test_data[\"Heart disease_prevalence\"]\n",
    "X_test.head()"
   ]
  },
  {
   "cell_type": "code",
   "execution_count": 10,
   "metadata": {},
   "outputs": [
    {
     "data": {
      "text/html": [
       "<style>#sk-container-id-1 {color: black;}#sk-container-id-1 pre{padding: 0;}#sk-container-id-1 div.sk-toggleable {background-color: white;}#sk-container-id-1 label.sk-toggleable__label {cursor: pointer;display: block;width: 100%;margin-bottom: 0;padding: 0.3em;box-sizing: border-box;text-align: center;}#sk-container-id-1 label.sk-toggleable__label-arrow:before {content: \"▸\";float: left;margin-right: 0.25em;color: #696969;}#sk-container-id-1 label.sk-toggleable__label-arrow:hover:before {color: black;}#sk-container-id-1 div.sk-estimator:hover label.sk-toggleable__label-arrow:before {color: black;}#sk-container-id-1 div.sk-toggleable__content {max-height: 0;max-width: 0;overflow: hidden;text-align: left;background-color: #f0f8ff;}#sk-container-id-1 div.sk-toggleable__content pre {margin: 0.2em;color: black;border-radius: 0.25em;background-color: #f0f8ff;}#sk-container-id-1 input.sk-toggleable__control:checked~div.sk-toggleable__content {max-height: 200px;max-width: 100%;overflow: auto;}#sk-container-id-1 input.sk-toggleable__control:checked~label.sk-toggleable__label-arrow:before {content: \"▾\";}#sk-container-id-1 div.sk-estimator input.sk-toggleable__control:checked~label.sk-toggleable__label {background-color: #d4ebff;}#sk-container-id-1 div.sk-label input.sk-toggleable__control:checked~label.sk-toggleable__label {background-color: #d4ebff;}#sk-container-id-1 input.sk-hidden--visually {border: 0;clip: rect(1px 1px 1px 1px);clip: rect(1px, 1px, 1px, 1px);height: 1px;margin: -1px;overflow: hidden;padding: 0;position: absolute;width: 1px;}#sk-container-id-1 div.sk-estimator {font-family: monospace;background-color: #f0f8ff;border: 1px dotted black;border-radius: 0.25em;box-sizing: border-box;margin-bottom: 0.5em;}#sk-container-id-1 div.sk-estimator:hover {background-color: #d4ebff;}#sk-container-id-1 div.sk-parallel-item::after {content: \"\";width: 100%;border-bottom: 1px solid gray;flex-grow: 1;}#sk-container-id-1 div.sk-label:hover label.sk-toggleable__label {background-color: #d4ebff;}#sk-container-id-1 div.sk-serial::before {content: \"\";position: absolute;border-left: 1px solid gray;box-sizing: border-box;top: 0;bottom: 0;left: 50%;z-index: 0;}#sk-container-id-1 div.sk-serial {display: flex;flex-direction: column;align-items: center;background-color: white;padding-right: 0.2em;padding-left: 0.2em;position: relative;}#sk-container-id-1 div.sk-item {position: relative;z-index: 1;}#sk-container-id-1 div.sk-parallel {display: flex;align-items: stretch;justify-content: center;background-color: white;position: relative;}#sk-container-id-1 div.sk-item::before, #sk-container-id-1 div.sk-parallel-item::before {content: \"\";position: absolute;border-left: 1px solid gray;box-sizing: border-box;top: 0;bottom: 0;left: 50%;z-index: -1;}#sk-container-id-1 div.sk-parallel-item {display: flex;flex-direction: column;z-index: 1;position: relative;background-color: white;}#sk-container-id-1 div.sk-parallel-item:first-child::after {align-self: flex-end;width: 50%;}#sk-container-id-1 div.sk-parallel-item:last-child::after {align-self: flex-start;width: 50%;}#sk-container-id-1 div.sk-parallel-item:only-child::after {width: 0;}#sk-container-id-1 div.sk-dashed-wrapped {border: 1px dashed gray;margin: 0 0.4em 0.5em 0.4em;box-sizing: border-box;padding-bottom: 0.4em;background-color: white;}#sk-container-id-1 div.sk-label label {font-family: monospace;font-weight: bold;display: inline-block;line-height: 1.2em;}#sk-container-id-1 div.sk-label-container {text-align: center;}#sk-container-id-1 div.sk-container {/* jupyter's `normalize.less` sets `[hidden] { display: none; }` but bootstrap.min.css set `[hidden] { display: none !important; }` so we also need the `!important` here to be able to override the default hidden behavior on the sphinx rendered scikit-learn.org. See: https://github.com/scikit-learn/scikit-learn/issues/21755 */display: inline-block !important;position: relative;}#sk-container-id-1 div.sk-text-repr-fallback {display: none;}</style><div id=\"sk-container-id-1\" class=\"sk-top-container\"><div class=\"sk-text-repr-fallback\"><pre>LinearRegression()</pre><b>In a Jupyter environment, please rerun this cell to show the HTML representation or trust the notebook. <br />On GitHub, the HTML representation is unable to render, please try loading this page with nbviewer.org.</b></div><div class=\"sk-container\" hidden><div class=\"sk-item\"><div class=\"sk-estimator sk-toggleable\"><input class=\"sk-toggleable__control sk-hidden--visually\" id=\"sk-estimator-id-1\" type=\"checkbox\" checked><label for=\"sk-estimator-id-1\" class=\"sk-toggleable__label sk-toggleable__label-arrow\">LinearRegression</label><div class=\"sk-toggleable__content\"><pre>LinearRegression()</pre></div></div></div></div></div>"
      ],
      "text/plain": [
       "LinearRegression()"
      ]
     },
     "execution_count": 10,
     "metadata": {},
     "output_type": "execute_result"
    }
   ],
   "source": [
    "from sklearn.linear_model import LinearRegression\n",
    "\n",
    "model = LinearRegression()\n",
    "model.fit(X_train, y_train)"
   ]
  },
  {
   "cell_type": "code",
   "execution_count": 11,
   "metadata": {},
   "outputs": [
    {
     "name": "stdout",
     "output_type": "stream",
     "text": [
      "Intercept (a): 8.371498647349844\n",
      "Coefficients (b): [-0.15549461  0.75459943 -0.27330536  0.53737403 -0.61739438  0.56593799]\n"
     ]
    }
   ],
   "source": [
    "print(f\"Intercept (a): {model.intercept_}\")\n",
    "print(f\"Coefficients (b): {model.coef_}\")"
   ]
  },
  {
   "cell_type": "code",
   "execution_count": 12,
   "metadata": {},
   "outputs": [
    {
     "data": {
      "text/plain": [
       "array([6.95398743, 5.51733046, 8.6265677 , 7.33167183, 8.66898132,\n",
       "       9.07482422, 9.56759501, 6.13899544, 8.10306919, 6.4907785 ,\n",
       "       8.07155428])"
      ]
     },
     "execution_count": 12,
     "metadata": {},
     "output_type": "execute_result"
    }
   ],
   "source": [
    "y_pred = model.predict(X_test)\n",
    "y_pred"
   ]
  },
  {
   "cell_type": "code",
   "execution_count": 13,
   "metadata": {},
   "outputs": [
    {
     "name": "stdout",
     "output_type": "stream",
     "text": [
      "Error cuadrático medio: 0.5255850187397291\n",
      "Coeficiente de determinación: 0.8686706799451416\n"
     ]
    }
   ],
   "source": [
    "\n",
    "\n",
    "print(f\"Error cuadrático medio: {math.sqrt(mean_squared_error(y_test, y_pred))}\")\n",
    "print(f\"Coeficiente de determinación: {r2_score(y_test, y_pred)}\")"
   ]
  }
 ],
 "metadata": {
  "kernelspec": {
   "display_name": "Python 3",
   "language": "python",
   "name": "python3"
  },
  "language_info": {
   "codemirror_mode": {
    "name": "ipython",
    "version": 3
   },
   "file_extension": ".py",
   "mimetype": "text/x-python",
   "name": "python",
   "nbconvert_exporter": "python",
   "pygments_lexer": "ipython3",
   "version": "3.11.4"
  }
 },
 "nbformat": 4,
 "nbformat_minor": 2
}
